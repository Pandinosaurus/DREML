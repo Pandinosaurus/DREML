{
 "cells": [
  {
   "cell_type": "code",
   "execution_count": 13,
   "metadata": {},
   "outputs": [],
   "source": [
    "import torch,random\n",
    "from _code.Utils import recall\n",
    "\n",
    "def acc(src,L):\n",
    "    # src: result directory\n",
    "    # L : total ensembled size\n",
    "    \n",
    "    # loading dataset info\n",
    "    dsets = torch.load(src + 'valdsets.pth')\n",
    "    \n",
    "    # loading feature vectors\n",
    "    R = [torch.load(src+str(d)+'valFvecs.pth') for d in range(L)]\n",
    "    R = torch.cat(R,1)\n",
    "    print(R.size())\n",
    "    \n",
    "    acc_list = recall(R,dsets.idx_to_class,rank=[1,2])\n",
    "\n",
    "    print('R@1:{:.2f} R@2:{:.2f}'.format(acc_list[0].item()*100, acc_list[1].item()*100))\n",
    "    "
   ]
  },
  {
   "cell_type": "code",
   "execution_count": 33,
   "metadata": {},
   "outputs": [
    {
     "name": "stdout",
     "output_type": "stream",
     "text": [
      "torch.Size([8131, 144])\n",
      "R@1:79.18 R@2:86.50\n"
     ]
    }
   ],
   "source": [
    "acc('_result/',12)"
   ]
  }
 ],
 "metadata": {
  "kernelspec": {
   "display_name": "Python 3",
   "language": "python",
   "name": "python3"
  },
  "language_info": {
   "codemirror_mode": {
    "name": "ipython",
    "version": 3
   },
   "file_extension": ".py",
   "mimetype": "text/x-python",
   "name": "python",
   "nbconvert_exporter": "python",
   "pygments_lexer": "ipython3",
   "version": "3.6.8"
  }
 },
 "nbformat": 4,
 "nbformat_minor": 2
}
